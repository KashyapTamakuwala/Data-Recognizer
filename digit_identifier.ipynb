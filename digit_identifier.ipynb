{
  "nbformat": 4,
  "nbformat_minor": 0,
  "metadata": {
    "colab": {
      "name": "digit identifier",
      "provenance": [],
      "authorship_tag": "ABX9TyP5b3NmIEjvpNF+l5V8NqVL",
      "include_colab_link": true
    },
    "kernelspec": {
      "name": "python3",
      "display_name": "Python 3"
    },
    "accelerator": "GPU"
  },
  "cells": [
    {
      "cell_type": "markdown",
      "metadata": {
        "id": "view-in-github",
        "colab_type": "text"
      },
      "source": [
        "<a href=\"https://colab.research.google.com/github/KashyapTamakuwala/Kaggle/blob/main/digit_identifier.ipynb\" target=\"_parent\"><img src=\"https://colab.research.google.com/assets/colab-badge.svg\" alt=\"Open In Colab\"/></a>"
      ]
    },
    {
      "cell_type": "code",
      "metadata": {
        "id": "3V5LSsxLkK1Z",
        "outputId": "74951239-1d7e-4ca6-8029-fd7a7c95f12e",
        "colab": {
          "resources": {
            "http://localhost:8080/nbextensions/google.colab/files.js": {
              "data": "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",
              "ok": true,
              "headers": [
                [
                  "content-type",
                  "application/javascript"
                ]
              ],
              "status": 200,
              "status_text": ""
            }
          },
          "base_uri": "https://localhost:8080/",
          "height": 110
        }
      },
      "source": [
        "! pip install -q kaggle\n",
        "from google.colab import files\n",
        "files.upload()\n"
      ],
      "execution_count": 1,
      "outputs": [
        {
          "output_type": "display_data",
          "data": {
            "text/html": [
              "\n",
              "     <input type=\"file\" id=\"files-45865225-4448-4ab2-91e9-2c728f0d5f1a\" name=\"files[]\" multiple disabled\n",
              "        style=\"border:none\" />\n",
              "     <output id=\"result-45865225-4448-4ab2-91e9-2c728f0d5f1a\">\n",
              "      Upload widget is only available when the cell has been executed in the\n",
              "      current browser session. Please rerun this cell to enable.\n",
              "      </output>\n",
              "      <script src=\"/nbextensions/google.colab/files.js\"></script> "
            ],
            "text/plain": [
              "<IPython.core.display.HTML object>"
            ]
          },
          "metadata": {
            "tags": []
          }
        },
        {
          "output_type": "stream",
          "text": [
            "Saving kaggle.json to kaggle.json\n"
          ],
          "name": "stdout"
        },
        {
          "output_type": "execute_result",
          "data": {
            "text/plain": [
              "{'kaggle.json': b'{\"username\":\"kashyaptamakuwala\",\"key\":\"e217cd8c0de72483dd421481ab2cc462\"}'}"
            ]
          },
          "metadata": {
            "tags": []
          },
          "execution_count": 1
        }
      ]
    },
    {
      "cell_type": "code",
      "metadata": {
        "id": "pTIDruhFkxFb"
      },
      "source": [
        "! mkdir ~/.kaggle\n",
        "! cp kaggle.json ~/.kaggle/"
      ],
      "execution_count": 2,
      "outputs": []
    },
    {
      "cell_type": "code",
      "metadata": {
        "id": "KFvdt39nkzFy"
      },
      "source": [
        "! chmod 600 ~/.kaggle/kaggle.json"
      ],
      "execution_count": 3,
      "outputs": []
    },
    {
      "cell_type": "code",
      "metadata": {
        "id": "jniFqTE_k1oB",
        "outputId": "8cb111ff-503f-426c-9bec-516d3e1ebba7",
        "colab": {
          "base_uri": "https://localhost:8080/",
          "height": 205
        }
      },
      "source": [
        "!kaggle competitions download -c digit-recognizer"
      ],
      "execution_count": 4,
      "outputs": [
        {
          "output_type": "stream",
          "text": [
            "Warning: Looks like you're using an outdated API Version, please consider updating (server 1.5.6 / client 1.5.4)\n",
            "Downloading test.csv.zip to /content\n",
            " 82% 5.00M/6.09M [00:00<00:00, 46.1MB/s]\n",
            "100% 6.09M/6.09M [00:00<00:00, 39.0MB/s]\n",
            "Downloading train.csv.zip to /content\n",
            " 98% 9.00M/9.16M [00:00<00:00, 21.0MB/s]\n",
            "100% 9.16M/9.16M [00:00<00:00, 20.7MB/s]\n",
            "Downloading sample_submission.csv to /content\n",
            "  0% 0.00/235k [00:00<?, ?B/s]\n",
            "100% 235k/235k [00:00<00:00, 79.0MB/s]\n"
          ],
          "name": "stdout"
        }
      ]
    },
    {
      "cell_type": "code",
      "metadata": {
        "id": "Z9SSqT6bkWjH",
        "outputId": "9988388b-8198-424d-c4a5-b6f2a6363727",
        "colab": {
          "base_uri": "https://localhost:8080/",
          "height": 34
        }
      },
      "source": [
        "import numpy as np\n",
        "import warnings\n",
        "import matplotlib.pyplot as plt\n",
        "import tensorflow as tf\n",
        "import pandas as pd\n",
        "\n",
        "\n",
        "from sklearn.model_selection import train_test_split\n",
        "from keras.models import Sequential\n",
        "from keras.layers import Dense, Dropout, Flatten, Activation, BatchNormalization\n",
        "from keras.layers.convolutional import Conv2D, MaxPooling2D\n",
        "from keras.preprocessing.image import ImageDataGenerator\n",
        "from keras.utils import plot_model\n",
        "from keras.callbacks import EarlyStopping\n",
        "\n",
        "device_name = tf.test.gpu_device_name()\n",
        "if device_name != '/device:GPU:0':\n",
        "  raise SystemError('GPU device not found')\n",
        "print('Found GPU at: {}'.format(device_name))\n",
        "\n",
        "pd.set_option('display.max_rows', 1000)\n",
        "warnings.filterwarnings(\"ignore\")\n",
        "\n",
        "\n",
        "\n",
        "train_data = pd.read_csv('/content/train.csv.zip')\n",
        "test_data = pd.read_csv('/content/test.csv.zip')"
      ],
      "execution_count": 12,
      "outputs": [
        {
          "output_type": "stream",
          "text": [
            "Found GPU at: /device:GPU:0\n"
          ],
          "name": "stdout"
        }
      ]
    },
    {
      "cell_type": "code",
      "metadata": {
        "id": "rNif8JuSlTK4"
      },
      "source": [
        "#reshaping image and normalizing the value \n",
        "IMG_SIZE = 28\n",
        "\n",
        "x_train = train_data.iloc[:,1:]\n",
        "x_train = x_train.values.reshape(-1, IMG_SIZE, IMG_SIZE, 1)\n",
        "y_train = train_data.iloc[:,0]\n",
        "x_test = test_data\n",
        "x_test = x_test.values.reshape(-1, IMG_SIZE, IMG_SIZE, 1)\n",
        "x_train = x_train/255.0\n",
        "x_test = x_test/255.0"
      ],
      "execution_count": 13,
      "outputs": []
    },
    {
      "cell_type": "code",
      "metadata": {
        "id": "fkJtEdaUlsJF",
        "outputId": "64ed636f-91d1-4c8b-c712-c57fdfb9aa68",
        "colab": {
          "base_uri": "https://localhost:8080/",
          "height": 54
        }
      },
      "source": [
        "#spliting data in training and validation set\n",
        "X_train, X_val, y_train, y_val = train_test_split(x_train, y_train, test_size = 0.1, random_state = 42)\n",
        "datagen = ImageDataGenerator(\n",
        "    rotation_range=10,\n",
        "    width_shift_range=0.1,\n",
        "    height_shift_range=0.1,\n",
        "    zoom_range=0.1)\n",
        "datagen.fit(X_train)\n",
        "print(datagen)"
      ],
      "execution_count": 14,
      "outputs": [
        {
          "output_type": "stream",
          "text": [
            "<tensorflow.python.keras.preprocessing.image.ImageDataGenerator object at 0x7f76824039e8>\n"
          ],
          "name": "stdout"
        }
      ]
    },
    {
      "cell_type": "code",
      "metadata": {
        "id": "MHVDvrtdmyVh",
        "outputId": "9a0b2cb7-dcdf-4a68-fcd9-8f2ffa081b2d",
        "colab": {
          "base_uri": "https://localhost:8080/",
          "height": 1000
        }
      },
      "source": [
        "earlystopping = EarlyStopping(monitor =\"val_accuracy\",\n",
        "                              mode = 'auto', patience = 30,\n",
        "                              restore_best_weights = True)\n",
        "\n",
        "\n",
        "# defining model\n",
        "model = Sequential()\n",
        "\n",
        "#conv2d(nooffilter,sizeoffilter,inputshapeofdata)\n",
        "model.add(Conv2D(128, (3, 3), input_shape = x_train.shape[1:]))\n",
        "model.add(BatchNormalization())\n",
        "model.add(Activation(\"relu\"))\n",
        "model.add(MaxPooling2D(pool_size=(2, 2), padding='same'))\n",
        "# model.add(Dropout(0.2))\n",
        "\n",
        "model.add(Conv2D(512, (3, 3)))\n",
        "model.add(BatchNormalization())\n",
        "model.add(Activation('relu'))\n",
        "model.add(MaxPooling2D(pool_size=(2, 2), padding='same'))\n",
        "# model.add(Dropout(0.2))\n",
        "\n",
        "\n",
        "model.add(Flatten())\n",
        "\n",
        "\n",
        "model.add(Dense(512))\n",
        "model.add(BatchNormalization())\n",
        "model.add(Activation('relu'))\n",
        "model.add(Dropout(0.5))\n",
        "\n",
        "\n",
        "model.add(Dense(10, activation='softmax'))\n",
        "\n",
        "\n",
        "model.compile(optimizer = 'adam',\n",
        "  loss = 'sparse_categorical_crossentropy',\n",
        "  metrics = ['accuracy'])\n",
        "\n",
        "EPOCHS = 2000\n",
        "BATCH_SIZE=32\n",
        "\n",
        "#training model\n",
        "\n",
        "history = model.fit(datagen.flow(X_train, y_train), epochs=EPOCHS, batch_size=BATCH_SIZE, validation_data=(X_val, y_val), callbacks=[earlystopping])\n"
      ],
      "execution_count": 15,
      "outputs": [
        {
          "output_type": "stream",
          "text": [
            "Epoch 1/2000\n",
            "1182/1182 [==============================] - 24s 20ms/step - loss: 0.2292 - accuracy: 0.9275 - val_loss: 0.0984 - val_accuracy: 0.9712\n",
            "Epoch 2/2000\n",
            "1182/1182 [==============================] - 24s 20ms/step - loss: 0.1145 - accuracy: 0.9647 - val_loss: 0.0550 - val_accuracy: 0.9805\n",
            "Epoch 3/2000\n",
            "1182/1182 [==============================] - 24s 20ms/step - loss: 0.0954 - accuracy: 0.9700 - val_loss: 0.0359 - val_accuracy: 0.9890\n",
            "Epoch 4/2000\n",
            "1182/1182 [==============================] - 24s 20ms/step - loss: 0.0834 - accuracy: 0.9746 - val_loss: 0.0333 - val_accuracy: 0.9886\n",
            "Epoch 5/2000\n",
            "1182/1182 [==============================] - 24s 20ms/step - loss: 0.0727 - accuracy: 0.9765 - val_loss: 0.0923 - val_accuracy: 0.9748\n",
            "Epoch 6/2000\n",
            "1182/1182 [==============================] - 24s 20ms/step - loss: 0.0707 - accuracy: 0.9780 - val_loss: 0.0307 - val_accuracy: 0.9898\n",
            "Epoch 7/2000\n",
            "1182/1182 [==============================] - 24s 20ms/step - loss: 0.0619 - accuracy: 0.9805 - val_loss: 0.0282 - val_accuracy: 0.9919\n",
            "Epoch 8/2000\n",
            "1182/1182 [==============================] - 24s 20ms/step - loss: 0.0596 - accuracy: 0.9813 - val_loss: 0.0251 - val_accuracy: 0.9917\n",
            "Epoch 9/2000\n",
            "1182/1182 [==============================] - 24s 20ms/step - loss: 0.0552 - accuracy: 0.9831 - val_loss: 0.0297 - val_accuracy: 0.9907\n",
            "Epoch 10/2000\n",
            "1182/1182 [==============================] - 24s 20ms/step - loss: 0.0519 - accuracy: 0.9846 - val_loss: 0.0404 - val_accuracy: 0.9871\n",
            "Epoch 11/2000\n",
            "1182/1182 [==============================] - 24s 20ms/step - loss: 0.0501 - accuracy: 0.9849 - val_loss: 0.0213 - val_accuracy: 0.9921\n",
            "Epoch 12/2000\n",
            "1182/1182 [==============================] - 24s 20ms/step - loss: 0.0492 - accuracy: 0.9848 - val_loss: 0.0234 - val_accuracy: 0.9926\n",
            "Epoch 13/2000\n",
            "1182/1182 [==============================] - 24s 20ms/step - loss: 0.0459 - accuracy: 0.9856 - val_loss: 0.0529 - val_accuracy: 0.9862\n",
            "Epoch 14/2000\n",
            "1182/1182 [==============================] - 24s 20ms/step - loss: 0.0427 - accuracy: 0.9875 - val_loss: 0.0278 - val_accuracy: 0.9919\n",
            "Epoch 15/2000\n",
            "1182/1182 [==============================] - 24s 20ms/step - loss: 0.0399 - accuracy: 0.9883 - val_loss: 0.0197 - val_accuracy: 0.9931\n",
            "Epoch 16/2000\n",
            "1182/1182 [==============================] - 24s 20ms/step - loss: 0.0403 - accuracy: 0.9879 - val_loss: 0.0219 - val_accuracy: 0.9921\n",
            "Epoch 17/2000\n",
            "1182/1182 [==============================] - 24s 20ms/step - loss: 0.0378 - accuracy: 0.9881 - val_loss: 0.0204 - val_accuracy: 0.9940\n",
            "Epoch 18/2000\n",
            "1182/1182 [==============================] - 24s 20ms/step - loss: 0.0370 - accuracy: 0.9880 - val_loss: 0.0190 - val_accuracy: 0.9943\n",
            "Epoch 19/2000\n",
            "1182/1182 [==============================] - 24s 20ms/step - loss: 0.0369 - accuracy: 0.9891 - val_loss: 0.0295 - val_accuracy: 0.9933\n",
            "Epoch 20/2000\n",
            "1182/1182 [==============================] - 24s 20ms/step - loss: 0.0364 - accuracy: 0.9892 - val_loss: 0.0234 - val_accuracy: 0.9912\n",
            "Epoch 21/2000\n",
            "1182/1182 [==============================] - 24s 20ms/step - loss: 0.0329 - accuracy: 0.9903 - val_loss: 0.0258 - val_accuracy: 0.9914\n",
            "Epoch 22/2000\n",
            "1182/1182 [==============================] - 24s 20ms/step - loss: 0.0311 - accuracy: 0.9903 - val_loss: 0.0213 - val_accuracy: 0.9940\n",
            "Epoch 23/2000\n",
            "1182/1182 [==============================] - 24s 20ms/step - loss: 0.0309 - accuracy: 0.9905 - val_loss: 0.0212 - val_accuracy: 0.9933\n",
            "Epoch 24/2000\n",
            "1182/1182 [==============================] - 24s 20ms/step - loss: 0.0286 - accuracy: 0.9911 - val_loss: 0.0271 - val_accuracy: 0.9914\n",
            "Epoch 25/2000\n",
            "1182/1182 [==============================] - 24s 20ms/step - loss: 0.0290 - accuracy: 0.9911 - val_loss: 0.0283 - val_accuracy: 0.9917\n",
            "Epoch 26/2000\n",
            "1182/1182 [==============================] - 24s 20ms/step - loss: 0.0305 - accuracy: 0.9906 - val_loss: 0.0219 - val_accuracy: 0.9931\n",
            "Epoch 27/2000\n",
            "1182/1182 [==============================] - 24s 20ms/step - loss: 0.0293 - accuracy: 0.9911 - val_loss: 0.0250 - val_accuracy: 0.9929\n",
            "Epoch 28/2000\n",
            "1182/1182 [==============================] - 24s 20ms/step - loss: 0.0300 - accuracy: 0.9911 - val_loss: 0.0255 - val_accuracy: 0.9919\n",
            "Epoch 29/2000\n",
            "1182/1182 [==============================] - 24s 20ms/step - loss: 0.0284 - accuracy: 0.9915 - val_loss: 0.0229 - val_accuracy: 0.9926\n",
            "Epoch 30/2000\n",
            "1182/1182 [==============================] - 24s 20ms/step - loss: 0.0263 - accuracy: 0.9919 - val_loss: 0.0288 - val_accuracy: 0.9924\n",
            "Epoch 31/2000\n",
            "1182/1182 [==============================] - 24s 20ms/step - loss: 0.0273 - accuracy: 0.9917 - val_loss: 0.0254 - val_accuracy: 0.9924\n",
            "Epoch 32/2000\n",
            "1182/1182 [==============================] - 24s 20ms/step - loss: 0.0273 - accuracy: 0.9917 - val_loss: 0.0200 - val_accuracy: 0.9948\n",
            "Epoch 33/2000\n",
            "1182/1182 [==============================] - 24s 20ms/step - loss: 0.0238 - accuracy: 0.9929 - val_loss: 0.0232 - val_accuracy: 0.9926\n",
            "Epoch 34/2000\n",
            "1182/1182 [==============================] - 24s 20ms/step - loss: 0.0244 - accuracy: 0.9921 - val_loss: 0.0241 - val_accuracy: 0.9948\n",
            "Epoch 35/2000\n",
            "1182/1182 [==============================] - 24s 20ms/step - loss: 0.0269 - accuracy: 0.9918 - val_loss: 0.0219 - val_accuracy: 0.9948\n",
            "Epoch 36/2000\n",
            "1182/1182 [==============================] - 23s 20ms/step - loss: 0.0248 - accuracy: 0.9925 - val_loss: 0.0235 - val_accuracy: 0.9929\n",
            "Epoch 37/2000\n",
            "1182/1182 [==============================] - 23s 20ms/step - loss: 0.0256 - accuracy: 0.9921 - val_loss: 0.0198 - val_accuracy: 0.9948\n",
            "Epoch 38/2000\n",
            "1182/1182 [==============================] - 24s 20ms/step - loss: 0.0211 - accuracy: 0.9935 - val_loss: 0.0271 - val_accuracy: 0.9919\n",
            "Epoch 39/2000\n",
            "1182/1182 [==============================] - 24s 20ms/step - loss: 0.0238 - accuracy: 0.9928 - val_loss: 0.0251 - val_accuracy: 0.9940\n",
            "Epoch 40/2000\n",
            "1182/1182 [==============================] - 24s 20ms/step - loss: 0.0227 - accuracy: 0.9934 - val_loss: 0.0228 - val_accuracy: 0.9945\n",
            "Epoch 41/2000\n",
            "1182/1182 [==============================] - 24s 20ms/step - loss: 0.0237 - accuracy: 0.9927 - val_loss: 0.0311 - val_accuracy: 0.9929\n",
            "Epoch 42/2000\n",
            "1182/1182 [==============================] - 24s 20ms/step - loss: 0.0227 - accuracy: 0.9925 - val_loss: 0.0205 - val_accuracy: 0.9938\n",
            "Epoch 43/2000\n",
            "1182/1182 [==============================] - 24s 20ms/step - loss: 0.0241 - accuracy: 0.9926 - val_loss: 0.0255 - val_accuracy: 0.9938\n",
            "Epoch 44/2000\n",
            "1182/1182 [==============================] - 23s 20ms/step - loss: 0.0213 - accuracy: 0.9934 - val_loss: 0.0249 - val_accuracy: 0.9936\n",
            "Epoch 45/2000\n",
            "1182/1182 [==============================] - 24s 20ms/step - loss: 0.0222 - accuracy: 0.9933 - val_loss: 0.0296 - val_accuracy: 0.9936\n",
            "Epoch 46/2000\n",
            "1182/1182 [==============================] - 24s 20ms/step - loss: 0.0213 - accuracy: 0.9929 - val_loss: 0.0329 - val_accuracy: 0.9938\n",
            "Epoch 47/2000\n",
            "1182/1182 [==============================] - 24s 20ms/step - loss: 0.0208 - accuracy: 0.9936 - val_loss: 0.0270 - val_accuracy: 0.9931\n",
            "Epoch 48/2000\n",
            "1182/1182 [==============================] - 24s 20ms/step - loss: 0.0208 - accuracy: 0.9939 - val_loss: 0.0303 - val_accuracy: 0.9914\n",
            "Epoch 49/2000\n",
            "1182/1182 [==============================] - 24s 20ms/step - loss: 0.0220 - accuracy: 0.9936 - val_loss: 0.0298 - val_accuracy: 0.9921\n",
            "Epoch 50/2000\n",
            "1182/1182 [==============================] - 24s 20ms/step - loss: 0.0202 - accuracy: 0.9934 - val_loss: 0.0219 - val_accuracy: 0.9950\n",
            "Epoch 51/2000\n",
            "1182/1182 [==============================] - 24s 20ms/step - loss: 0.0206 - accuracy: 0.9936 - val_loss: 0.0341 - val_accuracy: 0.9929\n",
            "Epoch 52/2000\n",
            "1182/1182 [==============================] - 24s 20ms/step - loss: 0.0214 - accuracy: 0.9934 - val_loss: 0.0233 - val_accuracy: 0.9952\n",
            "Epoch 53/2000\n",
            "1182/1182 [==============================] - 24s 20ms/step - loss: 0.0193 - accuracy: 0.9942 - val_loss: 0.0276 - val_accuracy: 0.9931\n",
            "Epoch 54/2000\n",
            "1182/1182 [==============================] - 24s 20ms/step - loss: 0.0221 - accuracy: 0.9940 - val_loss: 0.0267 - val_accuracy: 0.9936\n",
            "Epoch 55/2000\n",
            "1182/1182 [==============================] - 24s 20ms/step - loss: 0.0189 - accuracy: 0.9940 - val_loss: 0.0287 - val_accuracy: 0.9938\n",
            "Epoch 56/2000\n",
            "1182/1182 [==============================] - 23s 20ms/step - loss: 0.0197 - accuracy: 0.9940 - val_loss: 0.0221 - val_accuracy: 0.9948\n",
            "Epoch 57/2000\n",
            "1182/1182 [==============================] - 24s 20ms/step - loss: 0.0185 - accuracy: 0.9943 - val_loss: 0.0364 - val_accuracy: 0.9931\n",
            "Epoch 58/2000\n",
            "1182/1182 [==============================] - 24s 20ms/step - loss: 0.0175 - accuracy: 0.9947 - val_loss: 0.0314 - val_accuracy: 0.9921\n",
            "Epoch 59/2000\n",
            "1182/1182 [==============================] - 24s 20ms/step - loss: 0.0208 - accuracy: 0.9937 - val_loss: 0.0277 - val_accuracy: 0.9926\n",
            "Epoch 60/2000\n",
            "1182/1182 [==============================] - 23s 20ms/step - loss: 0.0165 - accuracy: 0.9947 - val_loss: 0.0257 - val_accuracy: 0.9936\n",
            "Epoch 61/2000\n",
            "1182/1182 [==============================] - 23s 20ms/step - loss: 0.0193 - accuracy: 0.9948 - val_loss: 0.0437 - val_accuracy: 0.9912\n",
            "Epoch 62/2000\n",
            "1182/1182 [==============================] - 23s 20ms/step - loss: 0.0194 - accuracy: 0.9939 - val_loss: 0.0301 - val_accuracy: 0.9948\n",
            "Epoch 63/2000\n",
            "1182/1182 [==============================] - 23s 20ms/step - loss: 0.0174 - accuracy: 0.9945 - val_loss: 0.0245 - val_accuracy: 0.9945\n",
            "Epoch 64/2000\n",
            "1182/1182 [==============================] - 23s 20ms/step - loss: 0.0189 - accuracy: 0.9943 - val_loss: 0.0230 - val_accuracy: 0.9948\n",
            "Epoch 65/2000\n",
            "1182/1182 [==============================] - 23s 20ms/step - loss: 0.0191 - accuracy: 0.9940 - val_loss: 0.0286 - val_accuracy: 0.9936\n",
            "Epoch 66/2000\n",
            "1182/1182 [==============================] - 23s 20ms/step - loss: 0.0181 - accuracy: 0.9949 - val_loss: 0.0250 - val_accuracy: 0.9936\n",
            "Epoch 67/2000\n",
            "1182/1182 [==============================] - 23s 20ms/step - loss: 0.0148 - accuracy: 0.9953 - val_loss: 0.0363 - val_accuracy: 0.9933\n",
            "Epoch 68/2000\n",
            "1182/1182 [==============================] - 23s 20ms/step - loss: 0.0183 - accuracy: 0.9948 - val_loss: 0.0270 - val_accuracy: 0.9938\n",
            "Epoch 69/2000\n",
            "1182/1182 [==============================] - 23s 20ms/step - loss: 0.0191 - accuracy: 0.9944 - val_loss: 0.0246 - val_accuracy: 0.9950\n",
            "Epoch 70/2000\n",
            "1182/1182 [==============================] - 23s 20ms/step - loss: 0.0186 - accuracy: 0.9942 - val_loss: 0.0244 - val_accuracy: 0.9940\n",
            "Epoch 71/2000\n",
            "1182/1182 [==============================] - 23s 20ms/step - loss: 0.0174 - accuracy: 0.9945 - val_loss: 0.0222 - val_accuracy: 0.9950\n",
            "Epoch 72/2000\n",
            "1182/1182 [==============================] - 24s 20ms/step - loss: 0.0158 - accuracy: 0.9954 - val_loss: 0.0245 - val_accuracy: 0.9950\n",
            "Epoch 73/2000\n",
            "1182/1182 [==============================] - 23s 20ms/step - loss: 0.0163 - accuracy: 0.9948 - val_loss: 0.0323 - val_accuracy: 0.9940\n",
            "Epoch 74/2000\n",
            "1182/1182 [==============================] - 24s 20ms/step - loss: 0.0183 - accuracy: 0.9947 - val_loss: 0.0220 - val_accuracy: 0.9950\n",
            "Epoch 75/2000\n",
            "1182/1182 [==============================] - 24s 20ms/step - loss: 0.0160 - accuracy: 0.9945 - val_loss: 0.0319 - val_accuracy: 0.9948\n",
            "Epoch 76/2000\n",
            "1182/1182 [==============================] - 24s 20ms/step - loss: 0.0159 - accuracy: 0.9952 - val_loss: 0.0432 - val_accuracy: 0.9926\n",
            "Epoch 77/2000\n",
            "1182/1182 [==============================] - 24s 20ms/step - loss: 0.0157 - accuracy: 0.9952 - val_loss: 0.0277 - val_accuracy: 0.9933\n",
            "Epoch 78/2000\n",
            "1182/1182 [==============================] - 24s 20ms/step - loss: 0.0165 - accuracy: 0.9951 - val_loss: 0.0390 - val_accuracy: 0.9919\n",
            "Epoch 79/2000\n",
            "1182/1182 [==============================] - 24s 20ms/step - loss: 0.0161 - accuracy: 0.9951 - val_loss: 0.0334 - val_accuracy: 0.9933\n",
            "Epoch 80/2000\n",
            "1182/1182 [==============================] - 24s 20ms/step - loss: 0.0158 - accuracy: 0.9950 - val_loss: 0.0275 - val_accuracy: 0.9945\n",
            "Epoch 81/2000\n",
            "1182/1182 [==============================] - 23s 20ms/step - loss: 0.0179 - accuracy: 0.9950 - val_loss: 0.0308 - val_accuracy: 0.9933\n",
            "Epoch 82/2000\n",
            "1182/1182 [==============================] - 24s 20ms/step - loss: 0.0172 - accuracy: 0.9951 - val_loss: 0.0254 - val_accuracy: 0.9948\n"
          ],
          "name": "stdout"
        }
      ]
    },
    {
      "cell_type": "code",
      "metadata": {
        "id": "m4uhcewusCMe"
      },
      "source": [
        "#prediction onn test data\n",
        "predictions = model.predict([x_test])\n",
        "solutions = []\n",
        "for i in range(len(predictions)):\n",
        "    solutions.append(np.argmax(predictions[i]))\n",
        "\n",
        "\n",
        "#saving prediction in a csv file\n",
        "final = pd.DataFrame()\n",
        "final['ImageId']=[i+1 for i in test_data.index]\n",
        "final['Label']=solutions\n",
        "final.to_csv('/content/submission.csv', index=False)"
      ],
      "execution_count": 17,
      "outputs": []
    }
  ]
}