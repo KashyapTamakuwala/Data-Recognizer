{
  "nbformat": 4,
  "nbformat_minor": 0,
  "metadata": {
    "colab": {
      "name": "Fetch_data.ipynb",
      "provenance": [],
      "collapsed_sections": [],
      "authorship_tag": "ABX9TyPRTUU3QikABDSmQx2gtw7T",
      "include_colab_link": true
    },
    "kernelspec": {
      "name": "python3",
      "display_name": "Python 3"
    }
  },
  "cells": [
    {
      "cell_type": "markdown",
      "metadata": {
        "id": "view-in-github",
        "colab_type": "text"
      },
      "source": [
        "<a href=\"https://colab.research.google.com/github/KashyapTamakuwala/Kaggle/blob/main/Fetch_data.ipynb\" target=\"_parent\"><img src=\"https://colab.research.google.com/assets/colab-badge.svg\" alt=\"Open In Colab\"/></a>"
      ]
    },
    {
      "cell_type": "code",
      "metadata": {
        "id": "Y07cOobEfwWP"
      },
      "source": [
        "import os\r\n",
        "import tarfile\r\n",
        "import urllib.request"
      ],
      "execution_count": 13,
      "outputs": []
    },
    {
      "cell_type": "code",
      "metadata": {
        "colab": {
          "base_uri": "https://localhost:8080/"
        },
        "id": "Aj4lgelAiZ0C",
        "outputId": "7da3547c-bf33-422b-f540-beee901a7fb2"
      },
      "source": [
        "DOWNLOAD_ROOT = \"https://raw.githubusercontent.com/ageron/handson-ml2/master/\"\r\n",
        "HOUSING_PATH = os.path.join(\"datasets\", \"jsb_chorales\")\r\n",
        "print(HOUSING_PATH)\r\n",
        "HOUSING_URL = DOWNLOAD_ROOT + \"datasets/jsb_chorales/jsb_chorales.tgz\"\r\n",
        "print(HOUSING_URL)"
      ],
      "execution_count": 17,
      "outputs": [
        {
          "output_type": "stream",
          "text": [
            "datasets/jsb_chorales\n",
            "https://raw.githubusercontent.com/ageron/handson-ml2/master/datasets/jsb_chorales/jsb_chorales.tgz\n"
          ],
          "name": "stdout"
        }
      ]
    },
    {
      "cell_type": "code",
      "metadata": {
        "id": "8lxFq8bFgMWF"
      },
      "source": [
        "def fetch_data_from_tgz(URL,Path,filename):\r\n",
        "  os.makedirs(Path,exist_ok=True)\r\n",
        "  tgz_path=os.path.join(Path,filename)\r\n",
        "  urllib.request.urlretrieve(URL,tgz_path)\r\n",
        "  tgz_file = tarfile.open(tgz_path)\r\n",
        "  tgz_file.extractall(path=Path)\r\n",
        "  tgz_file.close()"
      ],
      "execution_count": 20,
      "outputs": []
    },
    {
      "cell_type": "code",
      "metadata": {
        "id": "UX1SA1LpgODb"
      },
      "source": [
        "fetch_data(HOUSING_URL,HOUSING_PATH,\"jsb_chorales.tgz\")"
      ],
      "execution_count": 19,
      "outputs": []
    }
  ]
}